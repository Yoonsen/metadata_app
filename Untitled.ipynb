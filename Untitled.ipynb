{
 "cells": [
  {
   "cell_type": "code",
   "execution_count": 1,
   "metadata": {},
   "outputs": [
    {
     "data": {
      "text/html": [
       "<style>@import url(\n",
       "http://fonts.googleapis.com/css?family=Lato|Philosopher|Montserrat|Source+Code+Pro|Merriweather|Istok+Web|Philosopher|Assistant:200,400,700);\n",
       "\n",
       "/*\n",
       "#notebook-container {\n",
       "\t-webkit-box-shadow: none;\n",
       "\tbox-shadow: none;\n",
       "}\n",
       "*/\n",
       "\n",
       "h1, h2, h3, h4, h5, h6 {\n",
       "\tfont-family: 'Montserrat', sans-serif;\n",
       "\tline-height: 2em;\n",
       "    color: #004f99;\n",
       "    font-weight: 600;\n",
       "}\n",
       "\n",
       "h1 { font-size: 4.5em; }\n",
       "h2 { font-size: 4em; }\n",
       "h3 { font-size: 3.5em; }\n",
       "h4 { font-size: 3em; }\n",
       "h5 { font-size: 2.5em; color:DarkSlateGray; }\n",
       "h6 { font-size: 2em; }\n",
       "\n",
       "p {\n",
       "\tfont-family: 'Merriweather'; \n",
       "\tcolor: DarkSlateGray;\n",
       "}\n",
       "\n",
       "div.input_area {\n",
       "\tborder:none !important;\n",
       "\tborder-left:1px solid #ff851b !important\n",
       "}\n",
       "\n",
       "span.cm-keyword {\n",
       "\tcolor:#339966 !important;\n",
       "}\n",
       "span.nn {  /*span.cm-variable, span.cm-property*/\n",
       "\tcolor: #3399ff !important;\n",
       "}\n",
       "\n",
       "div.CodeMirror {\n",
       "\tfont-family: 'Inconsolata', monospace;\n",
       "\tfont-size: 1.1em;\n",
       "\t\n",
       "}\n",
       "</style>"
      ],
      "text/plain": [
       "<IPython.core.display.HTML object>"
      ]
     },
     "execution_count": 1,
     "metadata": {},
     "output_type": "execute_result"
    }
   ],
   "source": [
    "import dhlab.nbtext as nb\n",
    "import dhlab.module_update as mu\n",
    "import pandas as pd\n",
    "mu.css()"
   ]
  },
  {
   "cell_type": "code",
   "execution_count": 3,
   "metadata": {},
   "outputs": [
    {
     "data": {
      "text/markdown": [
       "Updated file `C:\\Users\\larsj\\Documents\\GitHub\\metadata_app\\mods_meta.py`"
      ],
      "text/plain": [
       "<IPython.core.display.Markdown object>"
      ]
     },
     "metadata": {},
     "output_type": "display_data"
    }
   ],
   "source": [
    "mu.update('mods_meta')"
   ]
  },
  {
   "cell_type": "code",
   "execution_count": 4,
   "metadata": {},
   "outputs": [],
   "source": [
    "import mods_meta as mm"
   ]
  },
  {
   "cell_type": "code",
   "execution_count": 11,
   "metadata": {},
   "outputs": [],
   "source": [
    "biblio = nb.book_corpus(period = (1800, 1905), limit = 30000)"
   ]
  },
  {
   "cell_type": "code",
   "execution_count": null,
   "metadata": {},
   "outputs": [],
   "source": []
  },
  {
   "cell_type": "code",
   "execution_count": 17,
   "metadata": {},
   "outputs": [],
   "source": [
    "biblio.urn = biblio.urn.astype(str)"
   ]
  },
  {
   "cell_type": "code",
   "execution_count": 25,
   "metadata": {},
   "outputs": [],
   "source": [
    "biblio['type'] = ''"
   ]
  },
  {
   "cell_type": "code",
   "execution_count": 26,
   "metadata": {},
   "outputs": [],
   "source": [
    "biblio = biblio.sort_values(by='year')"
   ]
  },
  {
   "cell_type": "code",
   "execution_count": 28,
   "metadata": {},
   "outputs": [],
   "source": [
    "biblio = biblio[['author', 'title', 'year', 'type', 'url', 'urn']]"
   ]
  },
  {
   "cell_type": "code",
   "execution_count": 29,
   "metadata": {},
   "outputs": [
    {
     "data": {
      "text/html": [
       "<div>\n",
       "<style scoped>\n",
       "    .dataframe tbody tr th:only-of-type {\n",
       "        vertical-align: middle;\n",
       "    }\n",
       "\n",
       "    .dataframe tbody tr th {\n",
       "        vertical-align: top;\n",
       "    }\n",
       "\n",
       "    .dataframe thead th {\n",
       "        text-align: right;\n",
       "    }\n",
       "</style>\n",
       "<table border=\"1\" class=\"dataframe\">\n",
       "  <thead>\n",
       "    <tr style=\"text-align: right;\">\n",
       "      <th></th>\n",
       "      <th>author</th>\n",
       "      <th>title</th>\n",
       "      <th>year</th>\n",
       "      <th>type</th>\n",
       "      <th>url</th>\n",
       "      <th>urn</th>\n",
       "    </tr>\n",
       "  </thead>\n",
       "  <tbody>\n",
       "    <tr>\n",
       "      <th>5551</th>\n",
       "      <td>Lichtenberg, Georg Christoph</td>\n",
       "      <td>G.C. Lichtenbergs Ausführliche Erklärung der H...</td>\n",
       "      <td>1800</td>\n",
       "      <td></td>\n",
       "      <td>https://urn.nb.no/URN:NBN:no-nb_digibok_201401...</td>\n",
       "      <td>2014010828002</td>\n",
       "    </tr>\n",
       "    <tr>\n",
       "      <th>9291</th>\n",
       "      <td>Zetlitz, Jens</td>\n",
       "      <td>norsk Höst</td>\n",
       "      <td>1800</td>\n",
       "      <td></td>\n",
       "      <td>https://urn.nb.no/URN:NBN:no-nb_digibok_200707...</td>\n",
       "      <td>2007072703001</td>\n",
       "    </tr>\n",
       "    <tr>\n",
       "      <th>10335</th>\n",
       "      <td>Lafontaine, August</td>\n",
       "      <td>Aristomenes og Gorgus, eller Hevn og Menneskel...</td>\n",
       "      <td>1800</td>\n",
       "      <td></td>\n",
       "      <td>https://urn.nb.no/URN:NBN:no-nb_digibok_201507...</td>\n",
       "      <td>2015070848026</td>\n",
       "    </tr>\n",
       "    <tr>\n",
       "      <th>13741</th>\n",
       "      <td>Smith, L.</td>\n",
       "      <td>Forsøg til en Fuldstændig Lærebygning om Dyren...</td>\n",
       "      <td>1800</td>\n",
       "      <td></td>\n",
       "      <td>https://urn.nb.no/URN:NBN:no-nb_digibok_201001...</td>\n",
       "      <td>2010011503014</td>\n",
       "    </tr>\n",
       "    <tr>\n",
       "      <th>12942</th>\n",
       "      <td>Børretzen, Bernt</td>\n",
       "      <td>Selskabs Sange udi Klubben hos S.T. Hr. Agent ...</td>\n",
       "      <td>1800</td>\n",
       "      <td></td>\n",
       "      <td>https://urn.nb.no/URN:NBN:no-nb_digibok_200904...</td>\n",
       "      <td>2009040713015</td>\n",
       "    </tr>\n",
       "    <tr>\n",
       "      <th>...</th>\n",
       "      <td>...</td>\n",
       "      <td>...</td>\n",
       "      <td>...</td>\n",
       "      <td>...</td>\n",
       "      <td>...</td>\n",
       "      <td>...</td>\n",
       "    </tr>\n",
       "    <tr>\n",
       "      <th>3050</th>\n",
       "      <td></td>\n",
       "      <td>Gudbrandsdalen og Lillehammer</td>\n",
       "      <td>1905</td>\n",
       "      <td></td>\n",
       "      <td>https://urn.nb.no/URN:NBN:no-nb_digibok_201204...</td>\n",
       "      <td>2012042708101</td>\n",
       "    </tr>\n",
       "    <tr>\n",
       "      <th>8998</th>\n",
       "      <td></td>\n",
       "      <td>Landmandens lovbog</td>\n",
       "      <td>1905</td>\n",
       "      <td></td>\n",
       "      <td>https://urn.nb.no/URN:NBN:no-nb_digibok_200907...</td>\n",
       "      <td>2009071401050</td>\n",
       "    </tr>\n",
       "    <tr>\n",
       "      <th>9002</th>\n",
       "      <td>Lødøen, O.I.K.</td>\n",
       "      <td>Det norske folks historie</td>\n",
       "      <td>1905</td>\n",
       "      <td></td>\n",
       "      <td>https://urn.nb.no/URN:NBN:no-nb_digibok_201207...</td>\n",
       "      <td>2012072708116</td>\n",
       "    </tr>\n",
       "    <tr>\n",
       "      <th>1064</th>\n",
       "      <td>Mohn, H.</td>\n",
       "      <td>Meteorology</td>\n",
       "      <td>1905</td>\n",
       "      <td></td>\n",
       "      <td>https://urn.nb.no/URN:NBN:no-nb_digibok_200910...</td>\n",
       "      <td>2009100210001</td>\n",
       "    </tr>\n",
       "    <tr>\n",
       "      <th>17082</th>\n",
       "      <td>Garborg, Arne</td>\n",
       "      <td>Fred</td>\n",
       "      <td>1905</td>\n",
       "      <td></td>\n",
       "      <td>https://urn.nb.no/URN:NBN:no-nb_digibok_201403...</td>\n",
       "      <td>2014030448005</td>\n",
       "    </tr>\n",
       "  </tbody>\n",
       "</table>\n",
       "<p>18708 rows × 6 columns</p>\n",
       "</div>"
      ],
      "text/plain": [
       "                             author  \\\n",
       "5551   Lichtenberg, Georg Christoph   \n",
       "9291                  Zetlitz, Jens   \n",
       "10335            Lafontaine, August   \n",
       "13741                     Smith, L.   \n",
       "12942              Børretzen, Bernt   \n",
       "...                             ...   \n",
       "3050                                  \n",
       "8998                                  \n",
       "9002                 Lødøen, O.I.K.   \n",
       "1064                       Mohn, H.   \n",
       "17082                 Garborg, Arne   \n",
       "\n",
       "                                                   title  year type  \\\n",
       "5551   G.C. Lichtenbergs Ausführliche Erklärung der H...  1800        \n",
       "9291                                          norsk Höst  1800        \n",
       "10335  Aristomenes og Gorgus, eller Hevn og Menneskel...  1800        \n",
       "13741  Forsøg til en Fuldstændig Lærebygning om Dyren...  1800        \n",
       "12942  Selskabs Sange udi Klubben hos S.T. Hr. Agent ...  1800        \n",
       "...                                                  ...   ...  ...   \n",
       "3050                       Gudbrandsdalen og Lillehammer  1905        \n",
       "8998                                  Landmandens lovbog  1905        \n",
       "9002                           Det norske folks historie  1905        \n",
       "1064                                         Meteorology  1905        \n",
       "17082                                               Fred  1905        \n",
       "\n",
       "                                                     url            urn  \n",
       "5551   https://urn.nb.no/URN:NBN:no-nb_digibok_201401...  2014010828002  \n",
       "9291   https://urn.nb.no/URN:NBN:no-nb_digibok_200707...  2007072703001  \n",
       "10335  https://urn.nb.no/URN:NBN:no-nb_digibok_201507...  2015070848026  \n",
       "13741  https://urn.nb.no/URN:NBN:no-nb_digibok_201001...  2010011503014  \n",
       "12942  https://urn.nb.no/URN:NBN:no-nb_digibok_200904...  2009040713015  \n",
       "...                                                  ...            ...  \n",
       "3050   https://urn.nb.no/URN:NBN:no-nb_digibok_201204...  2012042708101  \n",
       "8998   https://urn.nb.no/URN:NBN:no-nb_digibok_200907...  2009071401050  \n",
       "9002   https://urn.nb.no/URN:NBN:no-nb_digibok_201207...  2012072708116  \n",
       "1064   https://urn.nb.no/URN:NBN:no-nb_digibok_200910...  2009100210001  \n",
       "17082  https://urn.nb.no/URN:NBN:no-nb_digibok_201403...  2014030448005  \n",
       "\n",
       "[18708 rows x 6 columns]"
      ]
     },
     "execution_count": 29,
     "metadata": {},
     "output_type": "execute_result"
    }
   ],
   "source": [
    "biblio"
   ]
  },
  {
   "cell_type": "code",
   "execution_count": 20,
   "metadata": {},
   "outputs": [],
   "source": [
    "biblio['url'] = \"https://urn.nb.no/URN:NBN:no-nb_digibok_\" + biblio.urn"
   ]
  },
  {
   "cell_type": "code",
   "execution_count": 30,
   "metadata": {},
   "outputs": [],
   "source": [
    "biblio.to_excel('metadata_1800.xls')"
   ]
  },
  {
   "cell_type": "code",
   "execution_count": null,
   "metadata": {},
   "outputs": [],
   "source": [
    "download = \"\"\"<a href=\"data:file/csv;base64,{b64}\" download=\"myfilename.csv\">Download csv file</a>\"\"\""
   ]
  },
  {
   "cell_type": "code",
   "execution_count": 15,
   "metadata": {},
   "outputs": [],
   "source": [
    "import quickstart"
   ]
  },
  {
   "cell_type": "code",
   "execution_count": 16,
   "metadata": {},
   "outputs": [
    {
     "name": "stdout",
     "output_type": "stream",
     "text": [
      "Name, Major:\n",
      "Alexandra, English\n",
      "Andrew, Math\n",
      "Anna, English\n",
      "Becky, Art\n",
      "Benjamin, English\n",
      "Carl, Art\n",
      "Carrie, English\n",
      "Dorothy, Math\n",
      "Dylan, Math\n",
      "Edward, English\n",
      "Ellen, Physics\n",
      "Fiona, Art\n",
      "John, Physics\n",
      "Jonathan, Math\n",
      "Joseph, English\n",
      "Josephine, Math\n",
      "Karen, English\n",
      "Kevin, Physics\n",
      "Lisa, Art\n",
      "Mary, Physics\n",
      "Maureen, Physics\n",
      "Nick, Art\n",
      "Olivia, Physics\n",
      "Pamela, Math\n",
      "Patrick, Art\n",
      "Robert, English\n",
      "Sean, Physics\n",
      "Stacy, Math\n",
      "Thomas, Art\n",
      "Will, Math\n"
     ]
    }
   ],
   "source": [
    "quickstart.main()"
   ]
  }
 ],
 "metadata": {
  "kernelspec": {
   "display_name": "Python 3",
   "language": "python",
   "name": "python3"
  },
  "language_info": {
   "codemirror_mode": {
    "name": "ipython",
    "version": 3
   },
   "file_extension": ".py",
   "mimetype": "text/x-python",
   "name": "python",
   "nbconvert_exporter": "python",
   "pygments_lexer": "ipython3",
   "version": "3.8.3"
  }
 },
 "nbformat": 4,
 "nbformat_minor": 4
}
